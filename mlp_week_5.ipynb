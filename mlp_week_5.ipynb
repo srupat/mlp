{
  "nbformat": 4,
  "nbformat_minor": 0,
  "metadata": {
    "colab": {
      "provenance": [],
      "authorship_tag": "ABX9TyPw2/C9Yx0mkXz0ZxcXIhaT"
    },
    "kernelspec": {
      "name": "python3",
      "display_name": "Python 3"
    },
    "language_info": {
      "name": "python"
    }
  },
  "cells": [
    {
      "cell_type": "code",
      "execution_count": null,
      "metadata": {
        "id": "zITxKBYxtYM0"
      },
      "outputs": [],
      "source": [
        "import numpy as np\n",
        "import pandas as pd\n",
        "import matplotlib.pyplot as plt\n",
        "import seaborn as sns\n",
        "\n",
        "from scipy.stats import loguniform\n",
        "from scipy.stats import uniform\n",
        "\n",
        "from sklearn.datasets import fetch_california_housing\n",
        "from sklearn.dummy import DummyRegressor\n",
        "from sklearn.linear_model import LinearRegression\n",
        "from sklearn.linear_model import Lasso\n",
        "from sklearn.linear_model import LassoCV\n",
        "from sklearn.linear_model import RidgeCV\n",
        "from sklearn.linear_model import Ridge\n",
        "from sklearn.linear_model import SGDRegressor\n",
        "from sklearn.metrics import mean_squared_error\n",
        "from sklearn.metrics import mean_absolute_error\n",
        "from sklearn.metrics import mean_absolute_percentage_error\n",
        "from sklearn.model_selection import cross_validate\n",
        "from sklearn.model_selection import cross_val_score\n",
        "from sklearn.model_selection import train_test_split\n",
        "from sklearn.model_selection import ShuffleSplit\n",
        "from sklearn.model_selection import validation_curve\n",
        "from sklearn.model_selection import GridSearchCV\n",
        "from sklearn.model_selection import RandomizedSearchCV\n",
        "from sklearn.preprocessing import PolynomialFeatures\n",
        "from sklearn.preprocessing import StandardScaler\n",
        "from sklearn.pipeline import Pipeline"
      ]
    },
    {
      "cell_type": "code",
      "source": [
        "features, labels = fetch_california_housing(as_frame=True, return_X_y=True)"
      ],
      "metadata": {
        "id": "vnVS2hs2qdfB"
      },
      "execution_count": null,
      "outputs": []
    },
    {
      "cell_type": "code",
      "source": [
        "X_train, X_test, y_train, y_test = train_test_split(\n",
        "    features, labels, random_state=1, test_size=0.3)"
      ],
      "metadata": {
        "id": "07_pJ3lwqyOO"
      },
      "execution_count": null,
      "outputs": []
    },
    {
      "cell_type": "code",
      "source": [
        "pipeline = Pipeline([(\"feature_scaling\", StandardScaler()),\n",
        "                     (\"sgd\", SGDRegressor(random_state=1)),\n",
        "                     ])\n",
        "\n",
        "param_grid = {\n",
        "    'sgd__loss': ['squared_error', 'huber'],\n",
        "    'sgd__penalty': ['l1', 'l2'],\n",
        "    'sgd__alpha': [0.1, 0.01, 0.001],\n",
        "    'sgd__max_iter': [1000, 2000, 5000]\n",
        "}\n",
        "\n",
        "grid_search = GridSearchCV(pipeline, param_grid, cv=4, scoring='neg_mean_squared_error', n_jobs=-1)\n",
        "grid_search.fit(X_train, y_train)\n",
        "\n",
        "best_model = grid_search.best_estimator_\n",
        "y_pred = best_model.predict(X_test)\n",
        "\n",
        "test_mse = mean_squared_error(y_test, y_pred)\n",
        "print(f\"Best Parameters: {grid_search.best_params_}\")\n",
        "print(f\"Test Mean Squared Error: {test_mse}\")"
      ],
      "metadata": {
        "colab": {
          "base_uri": "https://localhost:8080/"
        },
        "id": "O66inqf7rCaR",
        "outputId": "e1324b16-a602-4f4f-fae3-379dd7acbf18"
      },
      "execution_count": null,
      "outputs": [
        {
          "output_type": "stream",
          "name": "stdout",
          "text": [
            "Best Parameters: {'sgd__alpha': 0.01, 'sgd__loss': 'squared_error', 'sgd__max_iter': 1000, 'sgd__penalty': 'l1'}\n",
            "Test Mean Squared Error: 0.5323098267577917\n"
          ]
        }
      ]
    },
    {
      "cell_type": "code",
      "source": [
        "pipeline = Pipeline([(\"feature_scaling\", StandardScaler()),\n",
        "                     (\"ridge\", Ridge()),\n",
        "                     ])\n",
        "\n",
        "param_grid = {'ridge__alpha': [0.5,0.1,0.05,0.01,0.005,0.001]}\n",
        "\n",
        "grid_search = GridSearchCV(pipeline, param_grid, cv=4, scoring='neg_mean_squared_error', n_jobs=-1)\n",
        "\n",
        "grid_search.fit(X_train, y_train)\n",
        "\n",
        "best_model = grid_search.best_estimator_\n",
        "y_pred = best_model.predict(X_test)\n",
        "\n",
        "test_mse = mean_squared_error(y_test, y_pred)\n",
        "print(f\"Best Parameters: {grid_search.best_params_}\")\n",
        "print(f\"Test Mean Squared Error: {test_mse}\")"
      ],
      "metadata": {
        "colab": {
          "base_uri": "https://localhost:8080/"
        },
        "id": "PJwIurN6t0cF",
        "outputId": "780bd782-77e8-4b80-eec6-067b3cb93e6f"
      },
      "execution_count": null,
      "outputs": [
        {
          "output_type": "stream",
          "name": "stdout",
          "text": [
            "Best Parameters: {'ridge__alpha': 0.5}\n",
            "Test Mean Squared Error: 0.5296265707544732\n"
          ]
        }
      ]
    },
    {
      "cell_type": "code",
      "source": [
        "X_train, X_test, y_train, y_test = train_test_split(\n",
        "    features, labels, random_state=1, test_size=0.4)"
      ],
      "metadata": {
        "id": "Jp4M2hW4vUb-"
      },
      "execution_count": null,
      "outputs": []
    },
    {
      "cell_type": "code",
      "source": [
        "pipeline = Pipeline([(\"feature_scaling\", StandardScaler()),\n",
        "                     (\"lasso\", Lasso()),\n",
        "                     ])\n",
        "\n",
        "param_grid = {'lasso__alpha': [0.5,0.1,0.05,0.01,0.005,0.001]}\n",
        "\n",
        "grid_search = GridSearchCV(pipeline, param_grid, cv=6, scoring='neg_mean_squared_error', n_jobs=-1)\n",
        "\n",
        "grid_search.fit(X_train, y_train)\n",
        "\n",
        "best_model = grid_search.best_estimator_\n",
        "y_pred = best_model.predict(X_test)\n",
        "\n",
        "test_mse = mean_squared_error(y_test, y_pred)\n",
        "print(f\"Best Parameters: {grid_search.best_params_}\")\n",
        "print(f\"Test Mean Squared Error: {test_mse}\")"
      ],
      "metadata": {
        "colab": {
          "base_uri": "https://localhost:8080/"
        },
        "id": "nctgWVxxv6Y-",
        "outputId": "c749b2e7-c06c-411f-d448-35f1d273de98"
      },
      "execution_count": null,
      "outputs": [
        {
          "output_type": "stream",
          "name": "stdout",
          "text": [
            "Best Parameters: {'lasso__alpha': 0.001}\n",
            "Test Mean Squared Error: 0.5215888844944333\n"
          ]
        }
      ]
    }
  ]
}